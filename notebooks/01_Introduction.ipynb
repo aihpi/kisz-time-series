{
 "cells": [
  {
   "cell_type": "markdown",
   "id": "019b9e37",
   "metadata": {},
   "source": [
    "<div style=\"background-color: #ffffff; color: #000000; padding: 30px;\">\n",
    "<img src=\"../media/images/kisz_logo.png\" width=\"192\" height=\"69\" align=\"right\" style=\"margin-right: 50px; margin-bottom:50px;\"> \n",
    "<h1> Time Series Analysis and Forecasting\n",
    "</div>\n",
    "\n"
   ]
  },
  {
   "cell_type": "markdown",
   "id": "dc850941",
   "metadata": {},
   "source": [
    "<div style=\"background-color: #f6a800; color: #ffffff; padding: 10px;\">\n",
    "<h2> 1. Practical Introduction\n",
    "</div>"
   ]
  },
  {
   "cell_type": "markdown",
   "id": "d7c7cbeb",
   "metadata": {},
   "source": [
    "This notebook serves as a practical introduction with useful information and setup guide for the upcoming notebooks.\n",
    "\n"
   ]
  },
  {
   "cell_type": "markdown",
   "id": "53fc0949",
   "metadata": {},
   "source": [
    "<div style=\"background-color: #dd6108; color: #ffffff; padding: 10px;\">\n",
    "<h3>1. Environment Setup\n",
    "</div>\n",
    "\n",
    "For this series, we will use **uv**, a lightweight environment manager that helps keep Python packages and project dependencies isolated and consistent. Using `uv` ensures that everyone following the notebooks has the same setup, avoiding version conflicts.\n",
    "\n",
    "**NOTE**: Even though it's possible to use conda for creating and managing the environment, we really encourage you to use **uv** instead.\n",
    "\n",
    "#### Steps to Set Up the Environment\n",
    "\n",
    "1. **Install uv** (if not already installed):"
   ]
  },
  {
   "cell_type": "code",
   "execution_count": null,
   "id": "4532c49b",
   "metadata": {},
   "outputs": [],
   "source": [
    "!pip install uv"
   ]
  },
  {
   "cell_type": "markdown",
   "id": "238d6976",
   "metadata": {},
   "source": [
    "2. Sync the project environment\n",
    "   \n",
    "    This will create a consistent Python environment with all required dependencies:"
   ]
  },
  {
   "cell_type": "code",
   "execution_count": null,
   "id": "fd0d87d8",
   "metadata": {},
   "outputs": [],
   "source": [
    "!uv sync"
   ]
  },
  {
   "cell_type": "markdown",
   "id": "bc4eb8ad",
   "metadata": {},
   "source": [
    "The uv sync command reads the environment specification file (uv.lock) and installs all necessary packages.\n",
    "\n",
    "3. That's all. You are done.\n",
    "    Check that a new subfolder called .venv has appeared in the project folder.\n",
    "\n",
    "#### Running Python Files\n",
    "\n",
    "When running Python scripts from the terminal, use <kb>uv run</kb>) instead of <kb>python</kb> to ensure the script uses the environment's correct dependencies:\n",
    "\n",
    "```bash\n",
    "uv run script_name.py\n",
    "```\n",
    "#### Installing New Packages\n",
    "\n",
    "If you need to install a new package, use <kb>uv add</kb> instead of <kb>pip install</kb>:\n",
    "\n",
    "```bash\n",
    "uv add package_name\n",
    "```\n",
    "\n",
    "This will automatically update the environment specification so others can sync and reproduce your setup.\n"
   ]
  },
  {
   "cell_type": "markdown",
   "id": "1345cfd6",
   "metadata": {},
   "source": [
    "<div style=\"background-color: #dd6108; color: #ffffff; padding: 10px;\">\n",
    "<h3>2. Using the prepared Datasets\n",
    "</div>\n",
    "\n",
    "You can download any of the [prepared datasets](../data/datasets.md) from Huggingface and save them in the data Folder. Once there, you can turn them into a Pandas DataFrame.\n",
    "\n",
    "Example:\n",
    "\n",
    "> ```python\n",
    "> import pandas as pd\n",
    "> \n",
    "> df = pd.read_parquet(\"../data/ops_data_15min.parquet\")\n",
    "> ```"
   ]
  }
 ],
 "metadata": {
  "kernelspec": {
   "display_name": "kisz-time-series",
   "language": "python",
   "name": "python3"
  },
  "language_info": {
   "codemirror_mode": {
    "name": "ipython",
    "version": 3
   },
   "file_extension": ".py",
   "mimetype": "text/x-python",
   "name": "python",
   "nbconvert_exporter": "python",
   "pygments_lexer": "ipython3",
   "version": "3.13.2"
  }
 },
 "nbformat": 4,
 "nbformat_minor": 5
}
